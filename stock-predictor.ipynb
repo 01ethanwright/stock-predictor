{
 "cells": [
  {
   "cell_type": "markdown",
   "metadata": {},
   "source": [
    "# Stock Anlysis"
   ]
  },
  {
   "cell_type": "markdown",
   "metadata": {},
   "source": [
    "Preparing Stock Data"
   ]
  },
  {
   "cell_type": "code",
   "execution_count": 105,
   "metadata": {},
   "outputs": [
    {
     "name": "stdout",
     "output_type": "stream",
     "text": [
      "Stock Download COMPLETE\n"
     ]
    }
   ],
   "source": [
    "import pandas as pd\n",
    "import yfinance as yf\n",
    "from datetime import date, timedelta\n",
    "from IPython.display import clear_output\n",
    "\n",
    "# importing list of stock tickers\n",
    "NASDAQ_tickers_list = pd.read_csv('nasdaq_tickers.csv')\n",
    "\n",
    "# getting dates to observe (past 30 days)\n",
    "todays_date = date.today()\n",
    "from_date = date.today() - timedelta(days=29)\n",
    "\n",
    "# creating dictionary to store dataframes\n",
    "stock_data = {}\n",
    "\n",
    "ticker_index = 1\n",
    "for stock in NASDAQ_tickers_list['Symbol']:\n",
    "    print(ticker_index, '/', len(NASDAQ_tickers_list['Symbol']), ' COMPLETED', sep=None)\n",
    "    try:\n",
    "        data = yf.download(stock, from_date, todays_date, progress=False)\n",
    "        if not data.empty:\n",
    "            stock_data[stock] = {\n",
    "                'Company Name': yf.Ticker(stock).info['longName'],\n",
    "                'Stock Data': data,\n",
    "                'Sharpe Ratio': -256,\n",
    "                'Treynor Ratio': -256\n",
    "            }\n",
    "            print(f'{stock} DOWNLOADED!')\n",
    "    except Exception as e:\n",
    "        print(f\"Error fetching data for {stock}: {e}\")\n",
    "    clear_output(wait=True)\n",
    "    ticker_index += 1\n",
    "\n",
    "print('Stock Download COMPLETE')"
   ]
  },
  {
   "cell_type": "markdown",
   "metadata": {},
   "source": [
    "Calculating Sharpe Ratio"
   ]
  },
  {
   "cell_type": "code",
   "execution_count": 107,
   "metadata": {},
   "outputs": [
    {
     "name": "stdout",
     "output_type": "stream",
     "text": [
      "CNFRZ, Conifer Holdings, Inc.: 1.2173117513007916\n",
      "RPHM, Reneo Pharmaceuticals, Inc.: 0.9110369258953773\n",
      "CRMD, CorMedix Inc.: 0.8315367959733164\n",
      "DJTWW, Trump Media & Technology Group Corp.: 0.744295360893536\n",
      "PHUN, Phunware, Inc.: 0.6620487369628815\n",
      "AXON, Axon Enterprise, Inc.: 0.6410347837806889\n",
      "NN, NextNav Inc.: 0.6360361155834484\n",
      "DJT, Trump Media & Technology Group Corp.: 0.6231234183929905\n",
      "MYRG, MYR Group Inc.: 0.5979882268616395\n",
      "LLYVA, Liberty Live Group: 0.5929728443657072\n",
      "LLYVK, Liberty Live Group: 0.5891155193651227\n"
     ]
    }
   ],
   "source": [
    "# Getting risk-free rate\n",
    "treasury_ticker = \"^TNX\"\n",
    "treasury_data = yf.download(treasury_ticker, todays_date, progress=False)\n",
    "risk_free_rate = treasury_data['Close'].iloc[-1] / 100\n",
    "risk_free_rate_daily = risk_free_rate / 252\n",
    "\n",
    "# Calculating each the Sharpe Ratio for each stock\n",
    "for stock in stock_data:\n",
    "    stock_data[stock]['Stock Data']['Daily Return'] = stock_data[stock]['Stock Data']['Adj Close'].pct_change()\n",
    "    average_return = stock_data[stock]['Stock Data']['Daily Return'].mean()\n",
    "\n",
    "    std_dev_return = 0\n",
    "    if len(stock_data[stock]['Stock Data']['Daily Return'].array) > 1:  # Ensure there are enough data points\n",
    "        std_dev_return = stock_data[stock]['Stock Data']['Daily Return'].std()\n",
    "    else:\n",
    "        # print(f'ERROR - {stock}: Not enough information to calculate risk!')\n",
    "        continue\n",
    "\n",
    "    if std_dev_return == 0:\n",
    "        # print(f'{stock}: Consistent Close of 0 -- Skipping Sharpe Ratio calculation!')\n",
    "        continue\n",
    "\n",
    "    stock_data[stock]['Sharpe Ratio'] = (average_return - risk_free_rate_daily) / std_dev_return\n",
    "\n",
    "# Sorting and printing 10 highest Sharpe Ratio stocks\n",
    "stock_sorted_sharpe_ratio = dict(sorted(stock_data.items(), key=lambda item: item[1]['Sharpe Ratio'], reverse=True))\n",
    "for i, stock in enumerate(stock_sorted_sharpe_ratio):\n",
    "    if i > 10:\n",
    "        break\n",
    "    print(stock, ', ', stock_sorted_sharpe_ratio[stock]['Company Name'], ': ', stock_sorted_sharpe_ratio[stock]['Sharpe Ratio'], sep='')"
   ]
  },
  {
   "cell_type": "markdown",
   "metadata": {},
   "source": [
    "Calculating Treynor Ratio"
   ]
  },
  {
   "cell_type": "code",
   "execution_count": 108,
   "metadata": {},
   "outputs": [
    {
     "name": "stdout",
     "output_type": "stream",
     "text": [
      "CNFRZ, Conifer Holdings, Inc.: -256\n",
      "RPHM, Reneo Pharmaceuticals, Inc.: -256\n",
      "CRMD, CorMedix Inc.: -0.016665163627385404\n",
      "DJTWW, Trump Media & Technology Group Corp.: -0.030644210547922317\n",
      "PHUN, Phunware, Inc.: 0.015033659410706862\n",
      "AXON, Axon Enterprise, Inc.: -0.050655589052400474\n",
      "NN, NextNav Inc.: -0.20260787057426907\n",
      "DJT, Trump Media & Technology Group Corp.: -0.011315319115632114\n",
      "MYRG, MYR Group Inc.: -0.04195213481471131\n",
      "LLYVA, Liberty Live Group: -0.05241130588679895\n",
      "LLYVK, Liberty Live Group: -0.04914109576601555\n"
     ]
    }
   ],
   "source": [
    "import numpy as np\n",
    "\n",
    "# Fetching market data\n",
    "market_data = yf.download('^GSPC', start=from_date, end=todays_date, progress=False)\n",
    "market_data['Daily Return'] = market_data['Adj Close'].pct_change().dropna()\n",
    "\n",
    "for stock in stock_data:\n",
    "    # Calculating beta\n",
    "    if len(stock_data[stock]['Stock Data']['Daily Return'].dropna()) != len(market_data['Daily Return'].dropna()):\n",
    "        continue\n",
    "\n",
    "    covariance = np.cov(stock_data[stock]['Stock Data']['Daily Return'].dropna(), market_data['Daily Return'].dropna())[0][1]\n",
    "    market_variance = np.var(market_data['Daily Return'])\n",
    "    beta = covariance / market_variance\n",
    "\n",
    "    if beta == 0:\n",
    "        continue\n",
    "    \n",
    "    # Calculating Treynor Ratio\n",
    "    stock_data[stock]['Treynor Ratio'] = (average_return - risk_free_rate) / beta\n",
    "\n",
    "stock_sorted_treynor_ratio = dict(sorted(stock_data.items(), key=lambda item: item[1]['Treynor Ratio'], reverse=True))\n",
    "for i, stock in enumerate(stock_sorted_sharpe_ratio):\n",
    "    if i > 10:\n",
    "        break\n",
    "    print(stock, ', ', stock_sorted_sharpe_ratio[stock]['Company Name'], ': ', stock_sorted_sharpe_ratio[stock]['Treynor Ratio'], sep='')"
   ]
  },
  {
   "cell_type": "markdown",
   "metadata": {},
   "source": [
    "# Gathering Sentiment Data"
   ]
  },
  {
   "cell_type": "markdown",
   "metadata": {},
   "source": [
    "NewsAPI"
   ]
  },
  {
   "cell_type": "code",
   "execution_count": null,
   "metadata": {},
   "outputs": [],
   "source": [
    "# limited to 100 calls every 24 hours (will take 40 days to get all news articles\n",
    "\n",
    "from newsapi import NewsApiClient\n",
    "NEWSAPI_KEY = '81a66bfe85d7441bab96bbda4d1f1e0d'\n",
    "newsapi = NewsApiClient(api_key=NEWSAPI_KEY)\n",
    "\n",
    "for stock in stock_data:\n",
    "    articles_by_name = newsapi.get_everything(\n",
    "        q=stock_data[stock]['Company Name'],\n",
    "        to = todays_date.isoformat(),\n",
    "        from_param= from_date.isoformat(),\n",
    "        language=\"en\",\n",
    "        sort_by=\"relevancy\"\n",
    "    )\n",
    "\n",
    "    print(f'{stock}')\n",
    "    for article in articles_by_name['articles']:\n",
    "        print(article['title']+ ' | ' + article['publishedAt'] + ' | ' + article['url'])\n",
    "    print('------------------------------------------------------------------')\n"
   ]
  },
  {
   "cell_type": "markdown",
   "metadata": {},
   "source": [
    "Twitter Web Scraping"
   ]
  },
  {
   "cell_type": "code",
   "execution_count": null,
   "metadata": {},
   "outputs": [],
   "source": [
    "import asyncio\n",
    "from twscrape import API, gather\n",
    "from twscrape.logger import set_log_level\n",
    "import csv\n",
    "\n",
    "api = API()\n"
   ]
  }
 ],
 "metadata": {
  "kernelspec": {
   "display_name": "Python 3",
   "language": "python",
   "name": "python3"
  },
  "language_info": {
   "codemirror_mode": {
    "name": "ipython",
    "version": 3
   },
   "file_extension": ".py",
   "mimetype": "text/x-python",
   "name": "python",
   "nbconvert_exporter": "python",
   "pygments_lexer": "ipython3",
   "version": "3.9.6"
  }
 },
 "nbformat": 4,
 "nbformat_minor": 2
}
